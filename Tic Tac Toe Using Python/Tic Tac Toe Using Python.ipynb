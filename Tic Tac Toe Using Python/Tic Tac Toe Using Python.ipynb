{
 "cells": [
  {
   "cell_type": "code",
   "execution_count": 1,
   "id": "5be5a7b3-b4ed-4332-9b0b-21e487e5d629",
   "metadata": {},
   "outputs": [],
   "source": [
    "import math"
   ]
  },
  {
   "cell_type": "code",
   "execution_count": 2,
   "id": "1b520d00-46f8-452c-b4df-1984f516043a",
   "metadata": {},
   "outputs": [],
   "source": [
    "# Initialize the board\n",
    "board = [' ' for _ in range(9)]  # 3x3 Tic Tac Toe board as a list"
   ]
  },
  {
   "cell_type": "code",
   "execution_count": 3,
   "id": "a85ed887-a06e-4534-b7ff-154b48e45014",
   "metadata": {},
   "outputs": [],
   "source": [
    "# Print the board\n",
    "def print_board():\n",
    "    for row in [board[i*3:(i+1)*3] for i in range(3)]:\n",
    "        print('| ' + ' | '.join(row) + ' |')"
   ]
  },
  {
   "cell_type": "code",
   "execution_count": 4,
   "id": "87bac24c-f6a4-4559-8fc4-b64913445261",
   "metadata": {},
   "outputs": [],
   "source": [
    "# Check for a winner\n",
    "def check_winner(board, player):\n",
    "    win_conditions = [\n",
    "        [0, 1, 2], [3, 4, 5], [6, 7, 8],  # rows\n",
    "        [0, 3, 6], [1, 4, 7], [2, 5, 8],  # columns\n",
    "        [0, 4, 8], [2, 4, 6]              # diagonals\n",
    "    ]\n",
    "    for condition in win_conditions:\n",
    "        if board[condition[0]] == board[condition[1]] == board[condition[2]] == player:\n",
    "            return True\n",
    "    return False"
   ]
  },
  {
   "cell_type": "code",
   "execution_count": 5,
   "id": "8bdf975c-0ee4-40fb-88d8-fed0162ce2e6",
   "metadata": {},
   "outputs": [],
   "source": [
    "# Check for a draw\n",
    "def is_draw(board):\n",
    "    return ' ' not in board"
   ]
  },
  {
   "cell_type": "code",
   "execution_count": 6,
   "id": "0266d036-724b-4b9b-be03-7a33919b2e95",
   "metadata": {},
   "outputs": [],
   "source": [
    "# Get empty cells\n",
    "def get_empty_cells(board):\n",
    "    return [i for i, cell in enumerate(board) if cell == ' ']"
   ]
  },
  {
   "cell_type": "code",
   "execution_count": 7,
   "id": "6ec080b6-d106-4cc5-84f2-2f4a3e299da5",
   "metadata": {},
   "outputs": [],
   "source": [
    "# Minimax algorithm\n",
    "def minimax(board, depth, is_maximizing):\n",
    "    if check_winner(board, 'O'):\n",
    "        return 1\n",
    "    if check_winner(board, 'X'):\n",
    "        return -1\n",
    "    if is_draw(board):\n",
    "        return 0\n",
    "\n",
    "    if is_maximizing:\n",
    "        best_score = -math.inf\n",
    "        for index in get_empty_cells(board):\n",
    "            board[index] = 'O'\n",
    "            score = minimax(board, depth + 1, False)\n",
    "            board[index] = ' '\n",
    "            best_score = max(score, best_score)\n",
    "        return best_score\n",
    "    else:\n",
    "        best_score = math.inf\n",
    "        for index in get_empty_cells(board):\n",
    "            board[index] = 'X'\n",
    "            score = minimax(board, depth + 1, True)\n",
    "            board[index] = ' '\n",
    "            best_score = min(score, best_score)\n",
    "        return best_score"
   ]
  },
  {
   "cell_type": "code",
   "execution_count": 8,
   "id": "fca5f859-25c4-4584-a09d-8a68ce5b0391",
   "metadata": {},
   "outputs": [],
   "source": [
    "# AI move\n",
    "def ai_move():\n",
    "    best_score = -math.inf\n",
    "    best_move = None\n",
    "    for index in get_empty_cells(board):\n",
    "        board[index] = 'O'\n",
    "        score = minimax(board, 0, False)\n",
    "        board[index] = ' '\n",
    "        if score > best_score:\n",
    "            best_score = score\n",
    "            best_move = index\n",
    "    board[best_move] = 'O'"
   ]
  },
  {
   "cell_type": "code",
   "execution_count": 9,
   "id": "12c8e775-61d8-4a1b-9f69-a3ef958bd1d7",
   "metadata": {},
   "outputs": [],
   "source": [
    "# Player move\n",
    "def player_move():\n",
    "    move = int(input(\"Enter your move (1-9): \")) - 1\n",
    "    if board[move] == ' ':\n",
    "        board[move] = 'X'\n",
    "    else:\n",
    "        print(\"Invalid move. Try again.\")\n",
    "        player_move()"
   ]
  },
  {
   "cell_type": "code",
   "execution_count": 10,
   "id": "0d290dba-26fe-4ee6-b1ef-fbcea076de48",
   "metadata": {},
   "outputs": [
    {
     "name": "stdout",
     "output_type": "stream",
     "text": [
      "Welcome to Tic Tac Toe!\n",
      "|   |   |   |\n",
      "|   |   |   |\n",
      "|   |   |   |\n"
     ]
    },
    {
     "name": "stdin",
     "output_type": "stream",
     "text": [
      "Enter your move (1-9):  3\n"
     ]
    },
    {
     "name": "stdout",
     "output_type": "stream",
     "text": [
      "|   |   | X |\n",
      "|   |   |   |\n",
      "|   |   |   |\n",
      "|   |   | X |\n",
      "|   | O |   |\n",
      "|   |   |   |\n"
     ]
    },
    {
     "name": "stdin",
     "output_type": "stream",
     "text": [
      "Enter your move (1-9):  4\n"
     ]
    },
    {
     "name": "stdout",
     "output_type": "stream",
     "text": [
      "|   |   | X |\n",
      "| X | O |   |\n",
      "|   |   |   |\n",
      "| O |   | X |\n",
      "| X | O |   |\n",
      "|   |   |   |\n"
     ]
    },
    {
     "name": "stdin",
     "output_type": "stream",
     "text": [
      "Enter your move (1-9):  5\n"
     ]
    },
    {
     "name": "stdout",
     "output_type": "stream",
     "text": [
      "Invalid move. Try again.\n"
     ]
    },
    {
     "name": "stdin",
     "output_type": "stream",
     "text": [
      "Enter your move (1-9):  6\n"
     ]
    },
    {
     "name": "stdout",
     "output_type": "stream",
     "text": [
      "| O |   | X |\n",
      "| X | O | X |\n",
      "|   |   |   |\n",
      "| O |   | X |\n",
      "| X | O | X |\n",
      "|   |   | O |\n",
      "AI wins!\n"
     ]
    }
   ],
   "source": [
    "# Main game loop\n",
    "def play_game():\n",
    "    print(\"Welcome to Tic Tac Toe!\")\n",
    "    print_board()\n",
    "\n",
    "    while True:\n",
    "        player_move()\n",
    "        print_board()\n",
    "        if check_winner(board, 'X'):\n",
    "            print(\"You win!\")\n",
    "            break\n",
    "        if is_draw(board):\n",
    "            print(\"It's a draw!\")\n",
    "            break\n",
    "\n",
    "        ai_move()\n",
    "        print_board()\n",
    "        if check_winner(board, 'O'):\n",
    "            print(\"AI wins!\")\n",
    "            break\n",
    "        if is_draw(board):\n",
    "            print(\"It's a draw!\")\n",
    "            break\n",
    "\n",
    "play_game()"
   ]
  },
  {
   "cell_type": "code",
   "execution_count": null,
   "id": "5217b793-1a41-436e-a984-23d298a4fa30",
   "metadata": {},
   "outputs": [],
   "source": []
  }
 ],
 "metadata": {
  "kernelspec": {
   "display_name": "Python 3 (ipykernel)",
   "language": "python",
   "name": "python3"
  },
  "language_info": {
   "codemirror_mode": {
    "name": "ipython",
    "version": 3
   },
   "file_extension": ".py",
   "mimetype": "text/x-python",
   "name": "python",
   "nbconvert_exporter": "python",
   "pygments_lexer": "ipython3",
   "version": "3.10.0"
  }
 },
 "nbformat": 4,
 "nbformat_minor": 5
}
