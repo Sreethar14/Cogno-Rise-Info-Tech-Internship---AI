{
 "cells": [
  {
   "cell_type": "code",
   "execution_count": 1,
   "id": "90aaf085-a059-4186-a7b9-73786c3fad0d",
   "metadata": {},
   "outputs": [],
   "source": [
    "import math"
   ]
  },
  {
   "cell_type": "code",
   "execution_count": 2,
   "id": "35408db7-567b-4715-bef6-30b666db4b88",
   "metadata": {},
   "outputs": [],
   "source": [
    "# Initialize the board\n",
    "board = [' ' for _ in range(9)]  # 3x3 Tic Tac Toe board as a list"
   ]
  },
  {
   "cell_type": "code",
   "execution_count": 3,
   "id": "8944ab84-b537-4875-849c-dc82541ba2d9",
   "metadata": {},
   "outputs": [],
   "source": [
    "#Function to print Tic Tac Toe Board\n",
    "def print_tic_t_t(values):\n",
    "    print(\"\\n\")\n",
    "    print(\"\\t    |   | \")\n",
    "    print(\"\\t  {}   | {}  | {}\" .format(values[0], values[1], values[2]))\n",
    "    print('\\t_____|______|_____')\n",
    "\n",
    "    print(\"\\t    |   | \")\n",
    "    print(\"\\t  {}   | {}  | {}\" .format(values[3], values[4], values[5]))\n",
    "    print('\\t_____|______|_____')\n",
    "\n",
    "    print(\"\\t    |   | \")\n",
    "    print(\"\\t  {}   | {}  | {}\" .format(values[6], values[7], values[8]))\n",
    "    print('\\t_____|______|_____')\n",
    "    print(\"\\n\")"
   ]
  },
  {
   "cell_type": "code",
   "execution_count": 4,
   "id": "d801dda8-39cf-4bf3-aaec-2d4d22d9b656",
   "metadata": {},
   "outputs": [],
   "source": [
    "#Function to print the ScoreBoard of the Game\n",
    "\n",
    "def print_scoreboard(score_board):\n",
    "    print(\"\\t-------------------------------------------------\")\n",
    "    print(\"\\t     SCOREBOARD FOR TIC TAC TOE                  \")\n",
    "    print(\"\\t-------------------------------------------------\")\n",
    "\n",
    "    players = list(score_board.keys())\n",
    "    print(\"\\t   \", players[0], \"\\t   \",score_board[players[0]])\n",
    "    print(\"\\t   \", players[0], \"\\t   \",score_board[players[1]])\n",
    "\n",
    "    print(\"\\t-----------------------------------------------\\n\")"
   ]
  },
  {
   "cell_type": "code",
   "execution_count": 5,
   "id": "b843f2ac-0529-4b57-a839-47a498b8a330",
   "metadata": {},
   "outputs": [
    {
     "name": "stdout",
     "output_type": "stream",
     "text": [
      "Player 1 Details \n"
     ]
    },
    {
     "name": "stdin",
     "output_type": "stream",
     "text": [
      "Enter the name of the Player :  Sree\n"
     ]
    },
    {
     "name": "stdout",
     "output_type": "stream",
     "text": [
      "\n",
      "\n",
      "Player 2 Details \n"
     ]
    },
    {
     "name": "stdin",
     "output_type": "stream",
     "text": [
      "Enter the name of the Player :  Muruga\n"
     ]
    },
    {
     "name": "stdout",
     "output_type": "stream",
     "text": [
      "\n",
      "\n",
      "\t-------------------------------------------------\n",
      "\t     SCOREBOARD FOR TIC TAC TOE                  \n",
      "\t-------------------------------------------------\n",
      "\t    Sree \t    0\n",
      "\t    Sree \t    0\n",
      "\t-----------------------------------------------\n",
      "\n",
      "Turn to choose for Sree\n",
      "Enter 1 for X\n",
      "Enter 2 for O\n",
      "Enter 3 to Quit\n"
     ]
    },
    {
     "name": "stdin",
     "output_type": "stream",
     "text": [
      " 1\n"
     ]
    },
    {
     "name": "stdout",
     "output_type": "stream",
     "text": [
      "\n",
      "\n",
      "\t    |   | \n",
      "\t      |    |  \n",
      "\t_____|______|_____\n",
      "\t    |   | \n",
      "\t      |    |  \n",
      "\t_____|______|_____\n",
      "\t    |   | \n",
      "\t      |    |  \n",
      "\t_____|______|_____\n",
      "\n",
      "\n",
      "Player  X turn. Which box? : "
     ]
    },
    {
     "name": "stdin",
     "output_type": "stream",
     "text": [
      " 2\n"
     ]
    },
    {
     "name": "stdout",
     "output_type": "stream",
     "text": [
      "\n",
      "\n",
      "\t    |   | \n",
      "\t      | X  |  \n",
      "\t_____|______|_____\n",
      "\t    |   | \n",
      "\t      |    |  \n",
      "\t_____|______|_____\n",
      "\t    |   | \n",
      "\t      |    |  \n",
      "\t_____|______|_____\n",
      "\n",
      "\n",
      "Player  O turn. Which box? : "
     ]
    },
    {
     "name": "stdin",
     "output_type": "stream",
     "text": [
      " 3\n"
     ]
    },
    {
     "name": "stdout",
     "output_type": "stream",
     "text": [
      "\n",
      "\n",
      "\t    |   | \n",
      "\t      | X  | O\n",
      "\t_____|______|_____\n",
      "\t    |   | \n",
      "\t      |    |  \n",
      "\t_____|______|_____\n",
      "\t    |   | \n",
      "\t      |    |  \n",
      "\t_____|______|_____\n",
      "\n",
      "\n",
      "Player  X turn. Which box? : "
     ]
    },
    {
     "name": "stdin",
     "output_type": "stream",
     "text": [
      " 5\n"
     ]
    },
    {
     "name": "stdout",
     "output_type": "stream",
     "text": [
      "\n",
      "\n",
      "\t    |   | \n",
      "\t      | X  | O\n",
      "\t_____|______|_____\n",
      "\t    |   | \n",
      "\t      | X  |  \n",
      "\t_____|______|_____\n",
      "\t    |   | \n",
      "\t      |    |  \n",
      "\t_____|______|_____\n",
      "\n",
      "\n",
      "Player  O turn. Which box? : "
     ]
    },
    {
     "name": "stdin",
     "output_type": "stream",
     "text": [
      " 1\n"
     ]
    },
    {
     "name": "stdout",
     "output_type": "stream",
     "text": [
      "\n",
      "\n",
      "\t    |   | \n",
      "\t  O   | X  | O\n",
      "\t_____|______|_____\n",
      "\t    |   | \n",
      "\t      | X  |  \n",
      "\t_____|______|_____\n",
      "\t    |   | \n",
      "\t      |    |  \n",
      "\t_____|______|_____\n",
      "\n",
      "\n",
      "Player  X turn. Which box? : "
     ]
    },
    {
     "name": "stdin",
     "output_type": "stream",
     "text": [
      " 8\n"
     ]
    },
    {
     "name": "stdout",
     "output_type": "stream",
     "text": [
      "\n",
      "\n",
      "\t    |   | \n",
      "\t  O   | X  | O\n",
      "\t_____|______|_____\n",
      "\t    |   | \n",
      "\t      | X  |  \n",
      "\t_____|______|_____\n",
      "\t    |   | \n",
      "\t      | X  |  \n",
      "\t_____|______|_____\n",
      "\n",
      "\n",
      "Player  X  has won the game!!\n",
      "\n",
      "\n",
      "\t-------------------------------------------------\n",
      "\t     SCOREBOARD FOR TIC TAC TOE                  \n",
      "\t-------------------------------------------------\n",
      "\t    Sree \t    1\n",
      "\t    Sree \t    0\n",
      "\t-----------------------------------------------\n",
      "\n",
      "Turn to choose for Muruga\n",
      "Enter 1 for X\n",
      "Enter 2 for O\n",
      "Enter 3 to Quit\n"
     ]
    },
    {
     "name": "stdin",
     "output_type": "stream",
     "text": [
      " 2\n"
     ]
    },
    {
     "name": "stdout",
     "output_type": "stream",
     "text": [
      "\n",
      "\n",
      "\t    |   | \n",
      "\t      |    |  \n",
      "\t_____|______|_____\n",
      "\t    |   | \n",
      "\t      |    |  \n",
      "\t_____|______|_____\n",
      "\t    |   | \n",
      "\t      |    |  \n",
      "\t_____|______|_____\n",
      "\n",
      "\n",
      "Player  O turn. Which box? : "
     ]
    },
    {
     "name": "stdin",
     "output_type": "stream",
     "text": [
      " 1\n"
     ]
    },
    {
     "name": "stdout",
     "output_type": "stream",
     "text": [
      "\n",
      "\n",
      "\t    |   | \n",
      "\t  O   |    |  \n",
      "\t_____|______|_____\n",
      "\t    |   | \n",
      "\t      |    |  \n",
      "\t_____|______|_____\n",
      "\t    |   | \n",
      "\t      |    |  \n",
      "\t_____|______|_____\n",
      "\n",
      "\n",
      "Player  X turn. Which box? : "
     ]
    },
    {
     "name": "stdin",
     "output_type": "stream",
     "text": [
      " 3\n"
     ]
    },
    {
     "name": "stdout",
     "output_type": "stream",
     "text": [
      "\n",
      "\n",
      "\t    |   | \n",
      "\t  O   |    | X\n",
      "\t_____|______|_____\n",
      "\t    |   | \n",
      "\t      |    |  \n",
      "\t_____|______|_____\n",
      "\t    |   | \n",
      "\t      |    |  \n",
      "\t_____|______|_____\n",
      "\n",
      "\n",
      "Player  O turn. Which box? : "
     ]
    },
    {
     "name": "stdin",
     "output_type": "stream",
     "text": [
      " 2\n"
     ]
    },
    {
     "name": "stdout",
     "output_type": "stream",
     "text": [
      "\n",
      "\n",
      "\t    |   | \n",
      "\t  O   | O  | X\n",
      "\t_____|______|_____\n",
      "\t    |   | \n",
      "\t      |    |  \n",
      "\t_____|______|_____\n",
      "\t    |   | \n",
      "\t      |    |  \n",
      "\t_____|______|_____\n",
      "\n",
      "\n",
      "Player  X turn. Which box? : "
     ]
    },
    {
     "name": "stdin",
     "output_type": "stream",
     "text": [
      " 5\n"
     ]
    },
    {
     "name": "stdout",
     "output_type": "stream",
     "text": [
      "\n",
      "\n",
      "\t    |   | \n",
      "\t  O   | O  | X\n",
      "\t_____|______|_____\n",
      "\t    |   | \n",
      "\t      | X  |  \n",
      "\t_____|______|_____\n",
      "\t    |   | \n",
      "\t      |    |  \n",
      "\t_____|______|_____\n",
      "\n",
      "\n",
      "Player  O turn. Which box? : "
     ]
    },
    {
     "name": "stdin",
     "output_type": "stream",
     "text": [
      " 3\n"
     ]
    },
    {
     "name": "stdout",
     "output_type": "stream",
     "text": [
      "The Place  you have chosen is already filled. Try again!!\n",
      "\n",
      "\n",
      "\t    |   | \n",
      "\t  O   | O  | X\n",
      "\t_____|______|_____\n",
      "\t    |   | \n",
      "\t      | X  |  \n",
      "\t_____|______|_____\n",
      "\t    |   | \n",
      "\t      |    |  \n",
      "\t_____|______|_____\n",
      "\n",
      "\n",
      "Player  O turn. Which box? : "
     ]
    },
    {
     "name": "stdin",
     "output_type": "stream",
     "text": [
      " 4\n"
     ]
    },
    {
     "name": "stdout",
     "output_type": "stream",
     "text": [
      "\n",
      "\n",
      "\t    |   | \n",
      "\t  O   | O  | X\n",
      "\t_____|______|_____\n",
      "\t    |   | \n",
      "\t  O   | X  |  \n",
      "\t_____|______|_____\n",
      "\t    |   | \n",
      "\t      |    |  \n",
      "\t_____|______|_____\n",
      "\n",
      "\n",
      "Player  X turn. Which box? : "
     ]
    },
    {
     "name": "stdin",
     "output_type": "stream",
     "text": [
      " 8\n"
     ]
    },
    {
     "name": "stdout",
     "output_type": "stream",
     "text": [
      "\n",
      "\n",
      "\t    |   | \n",
      "\t  O   | O  | X\n",
      "\t_____|______|_____\n",
      "\t    |   | \n",
      "\t  O   | X  |  \n",
      "\t_____|______|_____\n",
      "\t    |   | \n",
      "\t      | X  |  \n",
      "\t_____|______|_____\n",
      "\n",
      "\n",
      "Player  O turn. Which box? : "
     ]
    },
    {
     "name": "stdin",
     "output_type": "stream",
     "text": [
      " 7\n"
     ]
    },
    {
     "name": "stdout",
     "output_type": "stream",
     "text": [
      "\n",
      "\n",
      "\t    |   | \n",
      "\t  O   | O  | X\n",
      "\t_____|______|_____\n",
      "\t    |   | \n",
      "\t  O   | X  |  \n",
      "\t_____|______|_____\n",
      "\t    |   | \n",
      "\t  O   | X  |  \n",
      "\t_____|______|_____\n",
      "\n",
      "\n",
      "Player  O  has won the game!!\n",
      "\n",
      "\n",
      "\t-------------------------------------------------\n",
      "\t     SCOREBOARD FOR TIC TAC TOE                  \n",
      "\t-------------------------------------------------\n",
      "\t    Sree \t    1\n",
      "\t    Sree \t    1\n",
      "\t-----------------------------------------------\n",
      "\n",
      "Turn to choose for Muruga\n",
      "Enter 1 for X\n",
      "Enter 2 for O\n",
      "Enter 3 to Quit\n"
     ]
    },
    {
     "name": "stdin",
     "output_type": "stream",
     "text": [
      " 3\n"
     ]
    },
    {
     "name": "stdout",
     "output_type": "stream",
     "text": [
      "Final Scores\n",
      "\t-------------------------------------------------\n",
      "\t     SCOREBOARD FOR TIC TAC TOE                  \n",
      "\t-------------------------------------------------\n",
      "\t    Sree \t    1\n",
      "\t    Sree \t    1\n",
      "\t-----------------------------------------------\n",
      "\n"
     ]
    }
   ],
   "source": [
    "#Function to check if any player has won the game\n",
    "def check_winner(player_position, current_player): # Fixed typo here\n",
    "\n",
    "     #All possible winning combination for the players\n",
    "     soln = [[1,2,3], [4,5,6], [7,8,9], [1,4,7], [2,5,8], [3,6,9], [1,5,9], [3,5,7]]\n",
    "\n",
    "     # Loop to check if any winning combination is satisfying or not\n",
    "     for x in soln:\n",
    "        if all(y in player_position[current_player] for y in x): # Fixed indentation here\n",
    "\n",
    "            #Return true if any winning combination satisifies in the Irretration\n",
    "            return True\n",
    "\n",
    "    #Return False if any above combination is not satisifies\n",
    "     return False # Fixed indentation here\n",
    "\n",
    "#Function to check if the game is a draw\n",
    "def check_draw(player_position):\n",
    "    if len(player_position['X']) + len(player_position['O']) == 9: # Fixed typo here\n",
    "        return True\n",
    "    return False\n",
    "\n",
    "#Function for a single Tic Tac Toe Game\n",
    "def single_game(current_player):\n",
    "\n",
    "    #Represents the Tic Tac Toe\n",
    "    values = [' ' for x in range(9)]\n",
    "\n",
    "    #Stores the positions occupied by X and O\n",
    "    player_position = {'X':[], 'O':[]}\n",
    "\n",
    "   # Game loop for a single game of Tic Tac Toe\n",
    "    while True:\n",
    "        print_tic_t_t(values)\n",
    "\n",
    "       #Try Exception block for Move Input\n",
    "        try:\n",
    "            print(\"Player \", current_player, \"turn. Which box? : \", end=\"\")\n",
    "            move = int(input())\n",
    "        except ValueError:\n",
    "            print(\"Wrong Input!!! Try Again\")\n",
    "            continue\n",
    "\n",
    "        #Sanity check for Move Input\n",
    "        if move < 1 or move > 9:\n",
    "            print(\"Please choose the right number between 1 to 9 \")\n",
    "            continue\n",
    "\n",
    "        # Check if the cell is occupied or not\n",
    "        if values[move-1] != ' ':\n",
    "            print(\"The Place  you have chosen is already filled. Try again!!\")\n",
    "            continue\n",
    "\n",
    "       #Updating Board Status\n",
    "        values[move-1] = current_player\n",
    "\n",
    "      #Updating Player_positions\n",
    "        player_position[current_player].append(move)\n",
    "\n",
    "      # Function call for checking Winner\n",
    "        if check_winner(player_position, current_player):\n",
    "            print_tic_t_t(values)\n",
    "            print(\"Player \", current_player,  \" has won the game!!\")\n",
    "            print(\"\\n\")\n",
    "            return current_player\n",
    "\n",
    "     # Function call for checking draw game\n",
    "        if check_draw(player_position):\n",
    "            print_tic_t_t(values)\n",
    "            print(\"Game is a Draw\")\n",
    "            print(\"\\n\")\n",
    "            return 'D'\n",
    "\n",
    "     #Switch player moves:\n",
    "        if current_player == 'X':\n",
    "            current_player = 'O'\n",
    "        else:\n",
    "            current_player = 'X'\n",
    "\n",
    "if __name__ == \"__main__\":\n",
    "\n",
    "    print(\"Player 1 Details \")\n",
    "    play1 = input(\"Enter the name of the Player : \")\n",
    "    print(\"\\n\")\n",
    "\n",
    "    print(\"Player 2 Details \")\n",
    "    play2 = input(\"Enter the name of the Player : \")\n",
    "    print(\"\\n\")    \n",
    "\n",
    "   #Stores the player who choose \"X\" and \"O\"\n",
    "    current_player = play1\n",
    "\n",
    "   #Stores the choice of the players character\n",
    "    player_choice = {'X' : \"\", 'O' : \"\"}\n",
    "\n",
    "   #Stores the options\n",
    "    options = ['X', 'O']\n",
    "\n",
    "   #Stores the scoreboard details\n",
    "    score_board = {play1: 0, play2: 0}\n",
    "    print_scoreboard(score_board)\n",
    "\n",
    "  # Game Lopp for a series Tic Tac Toe\n",
    "    while True:\n",
    "\n",
    "    #Player Choice Menu\n",
    "        print(\"Turn to choose for\", current_player)\n",
    "        print(\"Enter 1 for X\")\n",
    "        print(\"Enter 2 for O\")\n",
    "        print(\"Enter 3 to Quit\")\n",
    "\n",
    "#Try exception for choice Input\n",
    "        try:\n",
    "            choice = int(input())\n",
    "        except ValueError:\n",
    "            print(\"Wrong Input!!! Try Again\\n\")\n",
    "            continue\n",
    "\n",
    "        #conditions for the player choice\n",
    "        if choice == 1: #Fixed indentation here\n",
    "            player_choice['X'] = current_player\n",
    "            if current_player == play1:\n",
    "                player_choice['O'] = play2\n",
    "            else:\n",
    "                player_choice['O'] = play1\n",
    "\n",
    "        elif choice == 2: #Fixed indentation here\n",
    "            player_choice['O'] = current_player\n",
    "            if current_player == play1:\n",
    "                player_choice['X'] = play2\n",
    "            else:\n",
    "                player_choice['X'] = play1\n",
    "\n",
    "        elif choice == 3: #Fixed indentation here\n",
    "            print(\"Final Scores\")\n",
    "            print_scoreboard(score_board)\n",
    "            break\n",
    "\n",
    "        else: #Fixed indentation here\n",
    "            print(\"Wrong Choice!!!  Try Again\\n\")\n",
    "\n",
    "\n",
    "        #Stores the Winner in a single game Tic Tac Toe\n",
    "        winner = single_game(options[choice-1])\n",
    "\n",
    "        #Score cards edit according to the winner\n",
    "        if winner != 'D':\n",
    "            player_won = player_choice[winner]\n",
    "            score_board[player_won] = score_board[player_won] + 1\n",
    "\n",
    "        print_scoreboard(score_board)\n",
    "        #Switch player whose 'X' and 'O'\n",
    "        if current_player == play1:\n",
    "            current_player = play2\n",
    "        else:\n",
    "            current_player == play1 # This line has a logical error. It should be current_player = play1"
   ]
  },
  {
   "cell_type": "code",
   "execution_count": null,
   "id": "bf676f30-596b-470b-b1ea-0236ebebaa7e",
   "metadata": {},
   "outputs": [],
   "source": []
  }
 ],
 "metadata": {
  "kernelspec": {
   "display_name": "Python 3 (ipykernel)",
   "language": "python",
   "name": "python3"
  },
  "language_info": {
   "codemirror_mode": {
    "name": "ipython",
    "version": 3
   },
   "file_extension": ".py",
   "mimetype": "text/x-python",
   "name": "python",
   "nbconvert_exporter": "python",
   "pygments_lexer": "ipython3",
   "version": "3.10.0"
  }
 },
 "nbformat": 4,
 "nbformat_minor": 5
}
