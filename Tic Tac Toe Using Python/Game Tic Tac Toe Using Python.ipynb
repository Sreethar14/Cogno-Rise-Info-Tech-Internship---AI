{
 "cells": [
  {
   "cell_type": "code",
   "execution_count": 1,
   "id": "5cb4c693-142b-4da9-8ba7-08c6491f4fa4",
   "metadata": {},
   "outputs": [],
   "source": [
    "import math"
   ]
  },
  {
   "cell_type": "code",
   "execution_count": 2,
   "id": "eb842127-3b7e-4f78-9741-21a8d086893e",
   "metadata": {},
   "outputs": [],
   "source": [
    "# Initialize the board\n",
    "board = [' ' for _ in range(9)]  # 3x3 Tic Tac Toe board as a list"
   ]
  },
  {
   "cell_type": "code",
   "execution_count": 3,
   "id": "d6f2b2b1-9725-4e60-aff2-03da0d276052",
   "metadata": {},
   "outputs": [],
   "source": [
    "#Function to print Tic Tac Toe Board\n",
    "def print_tic_t_t(values):\n",
    "    print(\"\\n\")\n",
    "    print(\"\\t    |   | \")\n",
    "    print(\"\\t  {}   | {}  | {}\" .format(values[0], values[1], values[2]))\n",
    "    print('\\t_____|______|_____')\n",
    "\n",
    "    print(\"\\t    |   | \")\n",
    "    print(\"\\t  {}   | {}  | {}\" .format(values[3], values[4], values[5]))\n",
    "    print('\\t_____|______|_____')\n",
    "\n",
    "    print(\"\\t    |   | \")\n",
    "    print(\"\\t  {}   | {}  | {}\" .format(values[6], values[7], values[8]))\n",
    "    print('\\t_____|______|_____')\n",
    "    print(\"\\n\")"
   ]
  },
  {
   "cell_type": "code",
   "execution_count": 4,
   "id": "69cf5258-ed2b-4895-aac9-31a32dd68cec",
   "metadata": {},
   "outputs": [],
   "source": [
    "#Function to print the ScoreBoard of the Game\n",
    "\n",
    "def print_scoreboard(score_board):\n",
    "    print(\"\\t-------------------------------------------------\")\n",
    "    print(\"\\t     SCOREBOARD FOR TIC TAC TOE                  \")\n",
    "    print(\"\\t-------------------------------------------------\")\n",
    "\n",
    "    players = list(score_board.keys())\n",
    "    print(\"\\t   \", players[0], \"\\t   \",score_board[players[0]])\n",
    "    print(\"\\t   \", players[0], \"\\t   \",score_board[players[1]])\n",
    "\n",
    "    print(\"\\t-----------------------------------------------\\n\")"
   ]
  },
  {
   "cell_type": "code",
   "execution_count": 5,
   "id": "1d3bdc5d-4f29-475d-879a-4590a853c8f1",
   "metadata": {},
   "outputs": [],
   "source": [
    "#Function to check if any player has won the game\n",
    "def check_winner(player_position, currnet_player):\n",
    "\n",
    "     #All possible winning combination for the players\n",
    "     soln = [[1,2,3], [4,5,6], [7,8,9], [1,4,7], [2,5,8], [3,6,9], [1,5,9], [3,5,7]]"
   ]
  },
  {
   "cell_type": "code",
   "execution_count": 6,
   "id": "6983e9e9-3858-4068-83f2-5642c85259da",
   "metadata": {
    "scrolled": true
   },
   "outputs": [
    {
     "name": "stdout",
     "output_type": "stream",
     "text": [
      "Player 1 Details \n"
     ]
    },
    {
     "name": "stdin",
     "output_type": "stream",
     "text": [
      "Enter the name of the Player :  Sreethar\n"
     ]
    },
    {
     "name": "stdout",
     "output_type": "stream",
     "text": [
      "\n",
      "\n",
      "Player 2 Details \n"
     ]
    },
    {
     "name": "stdin",
     "output_type": "stream",
     "text": [
      "Enter the name of the Player :  Ram\n"
     ]
    },
    {
     "name": "stdout",
     "output_type": "stream",
     "text": [
      "\n",
      "\n",
      "\t-------------------------------------------------\n",
      "\t     SCOREBOARD FOR TIC TAC TOE                  \n",
      "\t-------------------------------------------------\n",
      "\t    Sreethar \t    0\n",
      "\t    Sreethar \t    0\n",
      "\t-----------------------------------------------\n",
      "\n",
      "Turn to choose for Sreethar\n",
      "Enter 1 for X\n",
      "Enter 2 for O\n",
      "Enter 3 to Quit\n"
     ]
    },
    {
     "name": "stdin",
     "output_type": "stream",
     "text": [
      " 1\n"
     ]
    },
    {
     "name": "stdout",
     "output_type": "stream",
     "text": [
      "Turn to choose for Sreethar\n",
      "Enter 1 for X\n",
      "Enter 2 for O\n",
      "Enter 3 to Quit\n"
     ]
    },
    {
     "ename": "KeyboardInterrupt",
     "evalue": "Interrupted by user",
     "output_type": "error",
     "traceback": [
      "\u001b[1;31m---------------------------------------------------------------------------\u001b[0m",
      "\u001b[1;31mKeyboardInterrupt\u001b[0m                         Traceback (most recent call last)",
      "Cell \u001b[1;32mIn[6], line 114\u001b[0m\n\u001b[0;32m    112\u001b[0m \u001b[38;5;66;03m#Try exception for choice Input\u001b[39;00m\n\u001b[0;32m    113\u001b[0m   \u001b[38;5;28;01mtry\u001b[39;00m:\n\u001b[1;32m--> 114\u001b[0m       choice \u001b[38;5;241m=\u001b[39m \u001b[38;5;28mint\u001b[39m(\u001b[38;5;28;43minput\u001b[39;49m\u001b[43m(\u001b[49m\u001b[43m)\u001b[49m)\n\u001b[0;32m    115\u001b[0m   \u001b[38;5;28;01mexcept\u001b[39;00m \u001b[38;5;167;01mValueError\u001b[39;00m:\n\u001b[0;32m    116\u001b[0m       \u001b[38;5;28mprint\u001b[39m(\u001b[38;5;124m\"\u001b[39m\u001b[38;5;124mWrong Input!!! Try Again\u001b[39m\u001b[38;5;130;01m\\n\u001b[39;00m\u001b[38;5;124m\"\u001b[39m)\n",
      "File \u001b[1;32m~\\Documents\\anaconda installation\\envs\\aidl\\lib\\site-packages\\ipykernel\\kernelbase.py:1262\u001b[0m, in \u001b[0;36mKernel.raw_input\u001b[1;34m(self, prompt)\u001b[0m\n\u001b[0;32m   1260\u001b[0m     msg \u001b[38;5;241m=\u001b[39m \u001b[38;5;124m\"\u001b[39m\u001b[38;5;124mraw_input was called, but this frontend does not support input requests.\u001b[39m\u001b[38;5;124m\"\u001b[39m\n\u001b[0;32m   1261\u001b[0m     \u001b[38;5;28;01mraise\u001b[39;00m StdinNotImplementedError(msg)\n\u001b[1;32m-> 1262\u001b[0m \u001b[38;5;28;01mreturn\u001b[39;00m \u001b[38;5;28;43mself\u001b[39;49m\u001b[38;5;241;43m.\u001b[39;49m\u001b[43m_input_request\u001b[49m\u001b[43m(\u001b[49m\n\u001b[0;32m   1263\u001b[0m \u001b[43m    \u001b[49m\u001b[38;5;28;43mstr\u001b[39;49m\u001b[43m(\u001b[49m\u001b[43mprompt\u001b[49m\u001b[43m)\u001b[49m\u001b[43m,\u001b[49m\n\u001b[0;32m   1264\u001b[0m \u001b[43m    \u001b[49m\u001b[38;5;28;43mself\u001b[39;49m\u001b[38;5;241;43m.\u001b[39;49m\u001b[43m_parent_ident\u001b[49m\u001b[43m[\u001b[49m\u001b[38;5;124;43m\"\u001b[39;49m\u001b[38;5;124;43mshell\u001b[39;49m\u001b[38;5;124;43m\"\u001b[39;49m\u001b[43m]\u001b[49m\u001b[43m,\u001b[49m\n\u001b[0;32m   1265\u001b[0m \u001b[43m    \u001b[49m\u001b[38;5;28;43mself\u001b[39;49m\u001b[38;5;241;43m.\u001b[39;49m\u001b[43mget_parent\u001b[49m\u001b[43m(\u001b[49m\u001b[38;5;124;43m\"\u001b[39;49m\u001b[38;5;124;43mshell\u001b[39;49m\u001b[38;5;124;43m\"\u001b[39;49m\u001b[43m)\u001b[49m\u001b[43m,\u001b[49m\n\u001b[0;32m   1266\u001b[0m \u001b[43m    \u001b[49m\u001b[43mpassword\u001b[49m\u001b[38;5;241;43m=\u001b[39;49m\u001b[38;5;28;43;01mFalse\u001b[39;49;00m\u001b[43m,\u001b[49m\n\u001b[0;32m   1267\u001b[0m \u001b[43m\u001b[49m\u001b[43m)\u001b[49m\n",
      "File \u001b[1;32m~\\Documents\\anaconda installation\\envs\\aidl\\lib\\site-packages\\ipykernel\\kernelbase.py:1305\u001b[0m, in \u001b[0;36mKernel._input_request\u001b[1;34m(self, prompt, ident, parent, password)\u001b[0m\n\u001b[0;32m   1302\u001b[0m \u001b[38;5;28;01mexcept\u001b[39;00m \u001b[38;5;167;01mKeyboardInterrupt\u001b[39;00m:\n\u001b[0;32m   1303\u001b[0m     \u001b[38;5;66;03m# re-raise KeyboardInterrupt, to truncate traceback\u001b[39;00m\n\u001b[0;32m   1304\u001b[0m     msg \u001b[38;5;241m=\u001b[39m \u001b[38;5;124m\"\u001b[39m\u001b[38;5;124mInterrupted by user\u001b[39m\u001b[38;5;124m\"\u001b[39m\n\u001b[1;32m-> 1305\u001b[0m     \u001b[38;5;28;01mraise\u001b[39;00m \u001b[38;5;167;01mKeyboardInterrupt\u001b[39;00m(msg) \u001b[38;5;28;01mfrom\u001b[39;00m \u001b[38;5;28;01mNone\u001b[39;00m\n\u001b[0;32m   1306\u001b[0m \u001b[38;5;28;01mexcept\u001b[39;00m \u001b[38;5;167;01mException\u001b[39;00m:\n\u001b[0;32m   1307\u001b[0m     \u001b[38;5;28mself\u001b[39m\u001b[38;5;241m.\u001b[39mlog\u001b[38;5;241m.\u001b[39mwarning(\u001b[38;5;124m\"\u001b[39m\u001b[38;5;124mInvalid Message:\u001b[39m\u001b[38;5;124m\"\u001b[39m, exc_info\u001b[38;5;241m=\u001b[39m\u001b[38;5;28;01mTrue\u001b[39;00m)\n",
      "\u001b[1;31mKeyboardInterrupt\u001b[0m: Interrupted by user"
     ]
    }
   ],
   "source": [
    "#Function to check if any player has won the game\n",
    "def check_winner(player_position, current_player): # Fixed typo here\n",
    "\n",
    "     #All possible winning combination for the players\n",
    "     soln = [[1,2,3], [4,5,6], [7,8,9], [1,4,7], [2,5,8], [3,6,9], [1,5,9], [3,5,7]]\n",
    "\n",
    "     # Loop to check if any winning combination is satisfying or not\n",
    "     for x in soln:\n",
    "        if all(y in player_position[current_player] for y in x): # Fixed indentation here\n",
    "\n",
    "            #Return true if any winning combination satisifies in the Irretration\n",
    "            return True\n",
    "\n",
    "    #Return False if any above combination is not satisifies\n",
    "     return False # Fixed indentation here\n",
    "\n",
    "#Function to check if the game is a draw\n",
    "def check_draw(player_position):\n",
    "    if len(player_position['X']) + len(player_position['O']) == 9: # Fixed typo here\n",
    "        return True\n",
    "    return False\n",
    "\n",
    "#Function for a single Tic Tac Toe Game\n",
    "def single_game(current_player):\n",
    "\n",
    "    #Represents the Tic Tac Toe\n",
    "    values = [' ' for x in range(9)]\n",
    "\n",
    "    #Stores the positions occupied by X and O\n",
    "    player_position = {'X':[], 'O':[]}\n",
    "\n",
    "   # Game loop for a single game of Tic Tac Toe\n",
    "    while True:\n",
    "        print_tic_t_t(values)\n",
    "\n",
    "       #Try Exception block for Move Input\n",
    "        try:\n",
    "            print(\"Player \", current_player, \"turn. Which box? : \", end=\"\")\n",
    "            move = int(input())\n",
    "        except ValueError:\n",
    "            print(\"Wrong Input!!! Try Again\")\n",
    "            continue\n",
    "\n",
    "        #Sanity check for Move Input\n",
    "        if move < 1 or move > 9:\n",
    "            print(\"Please choose the right number between 1 to 9 \")\n",
    "            continue\n",
    "\n",
    "        # Check if the cell is occupied or not\n",
    "        if values[move-1] != ' ':\n",
    "            print(\"The Place  you have chosen is already filled. Try again!!\")\n",
    "            continue\n",
    "\n",
    "       #Updating Board Status\n",
    "        values[move-1] = current_player\n",
    "\n",
    "      #Updating Player_positions\n",
    "        player_position[current_player].append(move)\n",
    "\n",
    "      # Function call for checking Winner\n",
    "        if check_winner(player_position, current_player):\n",
    "            print_tic_t_t(values)\n",
    "            print(\"Player \", current_player,  \" has won the game!!\")\n",
    "            print(\"\\n\")\n",
    "            return current_player\n",
    "\n",
    "     # Function call for checking draw game\n",
    "        if check_draw(player_position):\n",
    "            print_tic_t_t(values)\n",
    "            print(\"Game is a Draw\")\n",
    "            print(\"\\n\")\n",
    "            return 'D'\n",
    "\n",
    "     #Switch player moves:\n",
    "        if current_player == 'X':\n",
    "            current_player = 'O'\n",
    "        else:\n",
    "            current_player = 'X'\n",
    "\n",
    "if __name__ == \"__main__\":\n",
    "\n",
    "    print(\"Player 1 Details \")\n",
    "    play1 = input(\"Enter the name of the Player : \")\n",
    "    print(\"\\n\")\n",
    "\n",
    "    print(\"Player 2 Details \")\n",
    "    play2 = input(\"Enter the name of the Player : \")\n",
    "    print(\"\\n\")    \n",
    "\n",
    "   #Stores the player who choose \"X\" and \"O\"\n",
    "    current_player = play1\n",
    "\n",
    "   #Stores the choice of the players character\n",
    "    player_choice = {'X' : \"\", 'O' : \"\"}\n",
    "\n",
    "   #Stores the options\n",
    "    options = ['X', 'O']\n",
    "\n",
    "   #Stores the scoreboard details\n",
    "    score_board = {play1: 0, play2: 0}\n",
    "    print_scoreboard(score_board)\n",
    "\n",
    "  # Game Lopp for a series Tic Tac Toe\n",
    "    while True:\n",
    "\n",
    "    #Player Choice Menu\n",
    "        print(\"Turn to choose for\", current_player)\n",
    "        print(\"Enter 1 for X\")\n",
    "        print(\"Enter 2 for O\")\n",
    "        print(\"Enter 3 to Quit\")\n",
    "\n",
    "      #Try exception for choice Input\n",
    "        try:\n",
    "            choice = int(input())\n",
    "        except ValueError:\n",
    "            print(\"Wrong Input!!! Try Again\\n\")\n",
    "            continue\n",
    "\n",
    "#conditions for the player choice \n",
    "        if choice == 1: # Fixed indentation here\n",
    "            player_choice['X'] = current_player\n",
    "            if current_player == play1:\n",
    "                player_choice['O'] = play2\n",
    "            else:\n",
    "                player_choice['O'] = play1\n",
    "\n",
    "        elif choice == 2: # Fixed indentation here\n",
    "            player_choice['O'] = current_player\n",
    "            if current_player == play1:\n",
    "                player_choice['X'] = play2\n",
    "            else:\n",
    "                player_choice['X'] = play1\n",
    "\n",
    "        elif choice == 3: # Fixed indentation here\n",
    "            print(\"Final Scores\")\n",
    "            print_scoreboard(score_board)\n",
    "            break\n",
    "\n",
    "        else: # Fixed indentation here\n",
    "            print(\"Wrong Choice!!!  Try Again\\n\")\n",
    "\n",
    "\n",
    "    #Stores the Winner in a single game Tic Tac Toe\n",
    "    winner = single_game(options[choice-1])\n",
    "\n",
    "    #Score cards edit according to the winner\n",
    "    if winner != 'D':\n",
    "       player_won = player_choice[winner]\n",
    "       score_board[player_won] = score_board[player_won] + 1\n",
    "\n",
    "    print_scoreboard(score_board)\n",
    "    #Switch player whose 'X' and 'O'\n",
    "    if current_player == play1:\n",
    "        current_player = play2\n",
    "    else:\n",
    "        current_player == play1"
   ]
  },
  {
   "cell_type": "code",
   "execution_count": null,
   "id": "c5e533ee-5f08-404e-b116-cbd5744d5bb2",
   "metadata": {},
   "outputs": [],
   "source": []
  },
  {
   "cell_type": "code",
   "execution_count": null,
   "id": "6161be8d-f31d-4d70-bae5-99a720d75772",
   "metadata": {},
   "outputs": [],
   "source": []
  },
  {
   "cell_type": "code",
   "execution_count": null,
   "id": "aa9048d4-d78a-4201-9126-2ef52b5efb89",
   "metadata": {},
   "outputs": [],
   "source": []
  }
 ],
 "metadata": {
  "kernelspec": {
   "display_name": "Python 3 (ipykernel)",
   "language": "python",
   "name": "python3"
  },
  "language_info": {
   "codemirror_mode": {
    "name": "ipython",
    "version": 3
   },
   "file_extension": ".py",
   "mimetype": "text/x-python",
   "name": "python",
   "nbconvert_exporter": "python",
   "pygments_lexer": "ipython3",
   "version": "3.10.0"
  }
 },
 "nbformat": 4,
 "nbformat_minor": 5
}
